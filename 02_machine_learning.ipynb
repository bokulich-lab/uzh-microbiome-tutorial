{
 "cells": [
  {
   "cell_type": "markdown",
   "id": "66e8d14b",
   "metadata": {},
   "source": [
    "# QIIME 2 Tutorial: Machine Learning\n",
    "\n",
    "This notebook contains materials accompanying the workshop **Microbiome-Based Tools: From Research to Application**. The notebook and corresponding setup script were adapted from the [**Advanced Block Course: Computational Biology**](https://github.com/bokulich-lab/advanced-comp-bio-tutorial.git); all source code is licensed under the Apache License 2.0.\n",
    "\n",
    "Save your own local copy of this notebook by using `File > Save a copy in Drive`. At some point you may be prompted to trust the notebook. We promise that it is safe 🤞\n",
    "\n",
    "**Disclaimer:**\n",
    "\n",
    "The Google Colab notebook environment will interpret any command as Python code by default. If we want to run bash commands we will have to prefix them by `!`. So any command you see with a leading `!` is a bash command and if you wanted to run it in your terminal you would omit the leading `!`. For example, if in the Colab notebook you ran `!wget` you would just run `wget` in your terminal. \n",
    "\n",
    "In this notebook we use the `!` prefix because we run all QIIME 2 commands using the [`q2cli`](https://github.com/qiime2/q2cli/) (QIIME 2 command-line interface). However, QIIME 2 also has a python API and a Galaxy interface. You can learn more about these and other QIIME 2 interfaces at https://qiime2.org/.\n",
    "\n",
    "You can run the entire notebook by selecting `Runtime > Run all` from the menu in Google Colab. Some steps are time-comsuming and the entire notebook may take up to 30-60 minutes, so run the entire notebook now and we will inspect the commands and results as we work through as a class."
   ]
  },
  {
   "cell_type": "markdown",
   "id": "d8336c0f",
   "metadata": {},
   "source": [
    "## Setup\n",
    "\n",
    "QIIME 2 is usually installed by following the [official installation instructions](https://docs.qiime2.org/2023.9/install/). However, because we are using Google Colab and there are some caveats to using conda here, we will have to hack around the installation a little. But no worries, we provide a setup script below which does all this work for us. 😌\n",
    "\n",
    "So let's start by pulling a local copy of the project repository down from GitHub."
   ]
  },
  {
   "cell_type": "code",
   "execution_count": null,
   "id": "fb370f02",
   "metadata": {},
   "outputs": [],
   "source": [
    "! git clone https://github.com/bokulich-lab/uzh-microbiome-tutorial.git materials\n",
    "! mkdir /content/prefetch_cache"
   ]
  },
  {
   "cell_type": "markdown",
   "id": "de2bcaa5",
   "metadata": {},
   "source": [
    "We will switch to working within the `materials` directory for the rest of the notebook."
   ]
  },
  {
   "cell_type": "code",
   "execution_count": null,
   "id": "5bb9bd1d",
   "metadata": {},
   "outputs": [],
   "source": [
    "%cd materials"
   ]
  },
  {
   "cell_type": "markdown",
   "id": "c489ed10",
   "metadata": {},
   "source": [
    "Now we are ready to set up our environment. This will take about 10 minutes.\n",
    "**Note:** This setup is only relevant for Google Colaboratory and will not work on your local machine. Please follow the [official installation instructions](https://docs.qiime2.org/2023.9/install/) for that."
   ]
  },
  {
   "cell_type": "code",
   "execution_count": null,
   "id": "9b891377",
   "metadata": {},
   "outputs": [],
   "source": [
    "%run setup_qiime2"
   ]
  },
  {
   "cell_type": "markdown",
   "id": "40379ada",
   "metadata": {},
   "source": [
    "And we will use some Python packages below, so let's load these here:"
   ]
  },
  {
   "cell_type": "code",
   "execution_count": null,
   "id": "396ca0ba",
   "metadata": {},
   "outputs": [],
   "source": [
    "import numpy as np\n",
    "import pandas as pd\n",
    "import seaborn as sns"
   ]
  },
  {
   "cell_type": "markdown",
   "id": "fa2d312e",
   "metadata": {},
   "source": [
    "## Predicting categorical data\n",
    "\n",
    "*Supervised learning classifiers* predict the categorical metadata classes of unlabeled samples by learning the composition of labeled training samples. For example, we may use a classifier to diagnose or predict disease susceptibility based on stool microbiome composition, or predict sample type as a function of the sequence variants, microbial taxa, or metabolites detected in a sample. In this tutorial, we will use the read processing tutorial data to train a classifier that predicts body site from which a sample was collected.\n",
    "\n",
    "Sections:\n",
    "1. Train and test a categorical classifier\n",
    "2. Optimize feature selection\n",
    "\n",
    "### Training/testing classifier\n",
    "\n",
    "We will train and test a classifier that predicts which body site a sample originated from, based on its microbial composition. We will do so using the `classify-samples` pipeline, which performs a series of steps:\n",
    "\n",
    "1. The input samples are randomly split into a `training` set and a `test` set. The test set is held out until the end of the pipeline, allowing us to test accuracy on a set of samples that was not used for model training. The fraction of input samples to include in the test set is adjusted with the `--p-test-size` parameter.\n",
    "\n",
    "2. We train the learning model using the training set samples. The model is trained to predict a specific `target` value for each sample (contained in a metadata column) based on the feature data associated with that sample. A range of different estimators can be selected using the `estimator` parameter; more details on individual estimators can be found in the [scikit-learn documentation](http://scikit-learn.org/stable/supervised_learning.html) (not sure which to choose? See the [estimator selection flowchart](http://scikit-learn.org/stable/tutorial/machine_learning_map/index.html)).\n",
    "\n",
    "3. K-fold [cross-validation](https://en.wikipedia.org/wiki/Cross-validation_(statistics)) is performed during automatic feature selection and parameter optimization steps to tune the model. Five-fold cross-validation is performed by default, and this value can be adjusted using the `--p-cv` parameter.\n",
    "\n",
    "4. The trained model is used to predict the target values for each test sample, based on the feature data associated with that sample, and predict class probabilities for each sample. Class probabilities are the likelihood that a sample belongs to each class (i.e., group of samples with the same `target` value).\n",
    "\n",
    "5. Model accuracy is calculated by comparing each test sample’s predicted value to the true value for that sample."
   ]
  },
  {
   "cell_type": "code",
   "execution_count": null,
   "id": "fd988962",
   "metadata": {
    "scrolled": true
   },
   "outputs": [],
   "source": [
    "pd.read_csv(\"data/moving_pictures/moving_pictures_metadata.tsv\",\n",
    "            sep=\"\\t\",\n",
    "            index_col=0,\n",
    "            skiprows=[1])"
   ]
  },
  {
   "cell_type": "code",
   "execution_count": null,
   "id": "4bb8d296",
   "metadata": {},
   "outputs": [],
   "source": [
    "! qiime sample-classifier classify-samples \\\n",
    "    --i-table data/moving_pictures/moving_pictures_table.qza \\\n",
    "    --m-metadata-file data/moving_pictures/moving_pictures_metadata.tsv \\\n",
    "    --m-metadata-column body-site \\\n",
    "    --p-estimator RandomForestClassifier \\\n",
    "    --p-random-state 123 \\\n",
    "    --output-dir rf_classifier"
   ]
  },
  {
   "cell_type": "markdown",
   "id": "a30b1c8f",
   "metadata": {},
   "source": [
    "Use [QIIME 2 View](https://view.qiime2.org) to check out `accuracy_results.qzv`, which presents classification accuracy results in the form of a confusion matrix, as well as [Receiver Operating Characteristic (ROC) curves](https://en.wikipedia.org/wiki/Receiver_operating_characteristic).\n",
    "\n",
    "**Question: What other metadata can we predict with `classify-samples`?** Take a look at the metadata columns in the `sample-metadata` and try some other categorical columns. Not all metadata can be easily learned by the classifier!"
   ]
  },
  {
   "cell_type": "code",
   "execution_count": null,
   "id": "d763bdf5",
   "metadata": {},
   "outputs": [],
   "source": [
    "! qiime metadata tabulate \\\n",
    "    --m-input-file rf_classifier/predictions.qza \\\n",
    "    --o-visualization rf_classifier/predictions.qzv"
   ]
  },
  {
   "cell_type": "code",
   "execution_count": null,
   "id": "bc45c135",
   "metadata": {},
   "outputs": [],
   "source": [
    "! qiime metadata tabulate \\\n",
    "    --m-input-file rf_classifier/probabilities.qza \\\n",
    "    --o-visualization rf_classifier/probabilities.qzv"
   ]
  },
  {
   "cell_type": "code",
   "execution_count": null,
   "id": "93d9e305",
   "metadata": {},
   "outputs": [],
   "source": [
    "! qiime metadata tabulate \\\n",
    "    --m-input-file rf_classifier/test_targets.qza \\\n",
    "    --m-input-file rf_classifier/predictions.qza \\\n",
    "    --o-visualization rf_classifier/test_targets_predictions.qzv"
   ]
  },
  {
   "cell_type": "markdown",
   "id": "281481c2",
   "metadata": {},
   "source": [
    "A list of all features, and their relative importances (or feature weights or model coefficients, depending on the learning model used), will be reported in `feature_importance.qza`. Features with higher importance scores were more useful for distinguishing classes.\n",
    "\n",
    "To understand which microbial taxa are associated with each feature, open with `data/moving_pictures/moving_pictures_taxonomy.qzv` side-by-side.\n",
    "\n",
    "**Question: What are the 5 most important taxa in the model?**"
   ]
  },
  {
   "cell_type": "code",
   "execution_count": null,
   "id": "eca71664",
   "metadata": {},
   "outputs": [],
   "source": [
    "! qiime metadata tabulate \\\n",
    "    --m-input-file rf_classifier/feature_importance.qza \\\n",
    "    --o-visualization rf_classifier/feature_importance.qzv"
   ]
  },
  {
   "cell_type": "markdown",
   "id": "e299f416",
   "metadata": {},
   "source": [
    "### Feature selection\n",
    "\n",
    "If `--p-optimize-feature-selection` is enabled, only the selected features (i.e., the most important features, which maximize model accuracy, as determined using [recursive feature elimination](http://scikit-learn.org/stable/modules/feature_selection.html#recursive-feature-elimination)) will be reported in this artifact, and all other results (e.g., model accuracy and predictions) that are output use the final, optimized model that utilizes this reduced feature set. This allows us to not only see which features are most important (and hence used by the model). "
   ]
  },
  {
   "cell_type": "code",
   "execution_count": null,
   "id": "8ff7ab87",
   "metadata": {},
   "outputs": [],
   "source": [
    "! qiime sample-classifier classify-samples \\\n",
    "    --i-table data/moving_pictures/moving_pictures_table.qza \\\n",
    "    --m-metadata-file data/moving_pictures/moving_pictures_metadata.tsv \\\n",
    "    --m-metadata-column body-site \\\n",
    "    --p-optimize-feature-selection \\\n",
    "    --p-estimator RandomForestClassifier \\\n",
    "    --p-n-estimators 20 \\\n",
    "    --p-random-state 123 \\\n",
    "    --output-dir rf_opt_classifier"
   ]
  },
  {
   "cell_type": "code",
   "execution_count": null,
   "id": "b258b21d",
   "metadata": {},
   "outputs": [],
   "source": [
    "! qiime metadata tabulate \\\n",
    "    --m-input-file rf_opt_classifier/feature_importance.qza \\\n",
    "    --o-visualization rf_opt_classifier/feature_importance.qzv"
   ]
  },
  {
   "cell_type": "markdown",
   "id": "80ec9f29",
   "metadata": {},
   "source": [
    "**Question: What are the 5 most important taxa in this model?** How do they differ from the five most important taxa in the previous model?"
   ]
  },
  {
   "cell_type": "markdown",
   "id": "26a0b846",
   "metadata": {},
   "source": [
    "We can use that information to filter out uninformative features from our feature table for other downstream analyses outside of `q2-sample-classifier`."
   ]
  },
  {
   "cell_type": "code",
   "execution_count": null,
   "id": "8c5a6311",
   "metadata": {},
   "outputs": [],
   "source": [
    "# Optional\n",
    "! qiime feature-table filter-features \\\n",
    "    --i-table data/moving_pictures/moving_pictures_table.qza \\\n",
    "    --m-metadata-file rf_opt_classifier/feature_importance.qza \\\n",
    "    --o-filtered-table rf_opt_classifier/important_feature_table.qza"
   ]
  },
  {
   "cell_type": "markdown",
   "id": "924dfcd4",
   "metadata": {},
   "source": [
    "We can also use the `heatmap` pipeline to generate an abundance heatmap of the most important features in each sample or group. Let’s make a heatmap of the top 30 most abundant features in each of our sample types."
   ]
  },
  {
   "cell_type": "code",
   "execution_count": null,
   "id": "0b493f6d",
   "metadata": {},
   "outputs": [],
   "source": [
    "! qiime sample-classifier heatmap \\\n",
    "    --i-table data/moving_pictures/moving_pictures_table.qza \\\n",
    "    --i-importance rf_opt_classifier/feature_importance.qza \\\n",
    "    --m-sample-metadata-file data/moving_pictures/moving_pictures_metadata.tsv \\\n",
    "    --m-sample-metadata-column body-site \\\n",
    "    --p-group-samples \\\n",
    "    --p-feature-count 30 \\\n",
    "    --o-filtered-table rf_opt_classifier/important_feature_table_top_30.qza \\\n",
    "    --o-heatmap rf_opt_classifier/important_feature_heatmap.qzv"
   ]
  },
  {
   "cell_type": "markdown",
   "id": "f744b0d4",
   "metadata": {},
   "source": [
    "**Note:** The model we trained here is a toy example containing very few samples from a single study and will probably not be useful for predicting other unknown samples. But if you have samples from one of these body sites, it could be a fun exercise to give it a spin!"
   ]
  },
  {
   "cell_type": "markdown",
   "id": "c7655c2b",
   "metadata": {},
   "source": [
    "## Predicting continuous data\n",
    "\n",
    "Supervised learning models can also predict continuous metadata values of samples -- we call these models regressors. For example, we may use a regressor to predict the abundance of a metabolite that will be produced by a microbial community, or a sample’s pH, temperature, or altitude as a function of the sequence variants, microbial taxa, or metabolites detected in a sample. \n",
    "\n",
    "In this section, we will predict continuous sample data from the previous dataset and from the [ECAM study](https://doi.org/10.1126/scitranslmed.aad7121), a longitudinal study of microbiome development in US infants.\n",
    "\n",
    "Sections:\n",
    "1. Predict on previous dataset (\"moving pictures\")\n",
    "2. Predict on ECAM dataset\n",
    "\n",
    "### Regression on moving pictures dataset"
   ]
  },
  {
   "cell_type": "code",
   "execution_count": null,
   "id": "326c9946",
   "metadata": {},
   "outputs": [],
   "source": [
    "! qiime sample-classifier regress-samples \\\n",
    "    --i-table data/moving_pictures/moving_pictures_table.qza \\\n",
    "    --m-metadata-file data/moving_pictures/moving_pictures_metadata.tsv \\\n",
    "    --m-metadata-column days-since-experiment-start \\\n",
    "    --p-estimator RandomForestRegressor \\\n",
    "    --output-dir mp_regressor"
   ]
  },
  {
   "cell_type": "markdown",
   "id": "62740ca6",
   "metadata": {},
   "source": [
    "### Regression on ECAM dataset"
   ]
  },
  {
   "cell_type": "code",
   "execution_count": null,
   "id": "8822df9b",
   "metadata": {},
   "outputs": [],
   "source": [
    "pd.read_csv(\"data/ecam/ecam_metadata.tsv\",\n",
    "            sep=\"\\t\",\n",
    "            index_col=0,\n",
    "            skiprows=[1])"
   ]
  },
  {
   "cell_type": "code",
   "execution_count": null,
   "id": "33f977d6",
   "metadata": {},
   "outputs": [],
   "source": [
    "! qiime sample-classifier regress-samples \\\n",
    "    --i-table data/ecam/ecam_table.qza \\\n",
    "    --m-metadata-file data/ecam/ecam_metadata.tsv \\\n",
    "    --m-metadata-column month \\\n",
    "    --p-estimator RandomForestRegressor \\\n",
    "    --output-dir ecam_regressor"
   ]
  },
  {
   "cell_type": "markdown",
   "id": "70d3a438",
   "metadata": {},
   "source": [
    "## Nested cross-validation"
   ]
  },
  {
   "cell_type": "code",
   "execution_count": null,
   "id": "060c2c02",
   "metadata": {},
   "outputs": [],
   "source": [
    "! qiime sample-classifier classify-samples-ncv \\\n",
    "    --i-table data/moving_pictures/moving_pictures_table.qza \\\n",
    "    --m-metadata-file data/moving_pictures/moving_pictures_metadata.tsv \\\n",
    "    --m-metadata-column body-site \\\n",
    "    --p-estimator RandomForestClassifier \\\n",
    "    --p-random-state 123 \\\n",
    "    --output-dir moving_pictures_ncv"
   ]
  },
  {
   "cell_type": "code",
   "execution_count": null,
   "id": "235729ab",
   "metadata": {},
   "outputs": [],
   "source": [
    "! qiime sample-classifier confusion-matrix \\\n",
    "    --i-predictions moving_pictures_ncv/predictions.qza \\\n",
    "    --i-probabilities moving_pictures_ncv/probabilities.qza \\\n",
    "    --m-truth-file data/moving_pictures/moving_pictures_metadata.tsv \\\n",
    "    --m-truth-column body-site \\\n",
    "    --o-visualization moving_pictures_ncv/ncv_confusion_matrix.qzv"
   ]
  },
  {
   "cell_type": "code",
   "execution_count": null,
   "id": "d715408f",
   "metadata": {},
   "outputs": [],
   "source": [
    "! qiime sample-classifier regress-samples-ncv \\\n",
    "    --i-table data/ecam/ecam_table.qza \\\n",
    "    --m-metadata-file data/ecam/ecam_metadata.tsv \\\n",
    "    --m-metadata-column month \\\n",
    "    --p-estimator RandomForestRegressor \\\n",
    "    --p-random-state 123 \\\n",
    "    --output-dir ecam_ncv"
   ]
  },
  {
   "cell_type": "code",
   "execution_count": null,
   "id": "d3afde4a",
   "metadata": {},
   "outputs": [],
   "source": [
    "! qiime sample-classifier scatterplot \\\n",
    "    --i-predictions ecam_ncv/predictions.qza \\\n",
    "    --m-truth-file data/ecam/ecam_metadata.tsv \\\n",
    "    --m-truth-column month \\\n",
    "    --o-visualization ecam_ncv/ecam_scatterplot.qzv"
   ]
  },
  {
   "cell_type": "markdown",
   "id": "3e220541",
   "metadata": {},
   "source": [
    "## Notes\n",
    "\n",
    "**Warning:**\n",
    "\n",
    "Just as with any statistical method, the actions described in this plugin require adequate sample sizes to achieve meaningful results. As a rule of thumb, a minimum of [approximately 50 samples](http://scikit-learn.org/stable/tutorial/machine_learning_map/index.html) should be provided. Categorical metadata columns that are used as classifier targets should have a minimum of 10 samples per unique value, and continuous metadata columns that are used as regressor targets should not contain many outliers or grossly uneven distributions. Smaller counts will result in inaccurate models, and may result in errors."
   ]
  }
 ],
 "metadata": {
  "kernelspec": {
   "display_name": "qiime2-2023.2",
   "language": "python",
   "name": "qiime2-2023.2"
  },
  "language_info": {
   "codemirror_mode": {
    "name": "ipython",
    "version": 3
   },
   "file_extension": ".py",
   "mimetype": "text/x-python",
   "name": "python",
   "nbconvert_exporter": "python",
   "pygments_lexer": "ipython3",
   "version": "3.8.16"
  },
  "toc": {
   "base_numbering": 1,
   "nav_menu": {},
   "number_sections": true,
   "sideBar": true,
   "skip_h1_title": false,
   "title_cell": "Table of Contents",
   "title_sidebar": "Contents",
   "toc_cell": false,
   "toc_position": {},
   "toc_section_display": true,
   "toc_window_display": false
  },
  "varInspector": {
   "cols": {
    "lenName": 16,
    "lenType": 16,
    "lenVar": 40
   },
   "kernels_config": {
    "python": {
     "delete_cmd_postfix": "",
     "delete_cmd_prefix": "del ",
     "library": "var_list.py",
     "varRefreshCmd": "print(var_dic_list())"
    },
    "r": {
     "delete_cmd_postfix": ") ",
     "delete_cmd_prefix": "rm(",
     "library": "var_list.r",
     "varRefreshCmd": "cat(var_dic_list()) "
    }
   },
   "types_to_exclude": [
    "module",
    "function",
    "builtin_function_or_method",
    "instance",
    "_Feature"
   ],
   "window_display": false
  }
 },
 "nbformat": 4,
 "nbformat_minor": 5
}

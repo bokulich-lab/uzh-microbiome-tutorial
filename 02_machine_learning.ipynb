{
 "cells": [
  {
   "cell_type": "markdown",
   "id": "66e8d14b",
   "metadata": {},
   "source": [
    "# QIIME 2 Tutorial: Machine Learning\n",
    "\n",
    "This notebook contains materials accompanying the workshop **Microbiome-Based Tools: From Research to Application**. The notebook and corresponding setup script were adapted from the [**Advanced Block Course: Computational Biology**](https://github.com/bokulich-lab/advanced-comp-bio-tutorial.git); all source code is licensed under the Apache License 2.0.\n",
    "\n",
    "Save your own local copy of this notebook by using `File > Save a copy in Drive`. At some point you may be prompted to trust the notebook. We promise that it is safe 🤞\n",
    "\n",
    "**Disclaimer:**\n",
    "\n",
    "The Google Colab notebook environment will interpret any command as Python code by default. If we want to run bash commands we will have to prefix them by `!`. So any command you see with a leading `!` is a bash command and if you wanted to run it in your terminal you would omit the leading `!`. For example, if in the Colab notebook you ran `!wget` you would just run `wget` in your terminal. \n",
    "\n",
    "In this notebook we use the `!` prefix because we run all QIIME 2 commands using the [`q2cli`](https://github.com/qiime2/q2cli/) (QIIME 2 command-line interface). However, QIIME 2 also has a python API and a Galaxy interface. You can learn more about these and other QIIME 2 interfaces at https://qiime2.org/.\n",
    "\n",
    "You can run the entire notebook by selecting `Runtime > Run all` from the menu in Google Colab. Some steps are time-comsuming and the entire notebook may take up to 30-60 minutes, so run the entire notebook now and we will inspect the commands and results as we work through as a class."
   ]
  },
  {
   "cell_type": "markdown",
   "id": "d8336c0f",
   "metadata": {},
   "source": [
    "## Setup\n",
    "\n",
    "QIIME 2 is usually installed by following the [official installation instructions](https://docs.qiime2.org/2023.9/install/). However, because we are using Google Colab and there are some caveats to using conda here, we will have to hack around the installation a little. But no worries, we provide a setup script below which does all this work for us. 😌\n",
    "\n",
    "So let's start by pulling a local copy of the project repository down from GitHub."
   ]
  },
  {
   "cell_type": "code",
   "execution_count": null,
   "id": "fb370f02",
   "metadata": {},
   "outputs": [],
   "source": [
    "! git clone https://github.com/bokulich-lab/uzh-microbiome-tutorial.git materials\n",
    "! mkdir /content/prefetch_cache"
   ]
  },
  {
   "cell_type": "markdown",
   "id": "de2bcaa5",
   "metadata": {},
   "source": [
    "We will switch to working within the `material` directory for the rest of the notebook."
   ]
  },
  {
   "cell_type": "code",
   "execution_count": null,
   "id": "5bb9bd1d",
   "metadata": {},
   "outputs": [],
   "source": [
    "%cd materials"
   ]
  },
  {
   "cell_type": "markdown",
   "id": "c489ed10",
   "metadata": {},
   "source": [
    "Now we are ready to set up our environment. This will take about 10 minutes.\n",
    "**Note:** This setup is only relevant for Google Colaboratory and will not work on your local machine. Please follow the [official installation instructions](https://docs.qiime2.org/2023.9/install/) for that."
   ]
  },
  {
   "cell_type": "code",
   "execution_count": null,
   "id": "9b891377",
   "metadata": {},
   "outputs": [],
   "source": [
    "%run setup_qiime2"
   ]
  },
  {
   "cell_type": "markdown",
   "id": "40379ada",
   "metadata": {},
   "source": [
    "And we will use some Python packages below, so let's load these here:"
   ]
  },
  {
   "cell_type": "code",
   "execution_count": null,
   "id": "396ca0ba",
   "metadata": {},
   "outputs": [],
   "source": [
    "import numpy as np\n",
    "import pandas as pd\n",
    "import seaborn as sns"
   ]
  },
  {
   "cell_type": "markdown",
   "id": "fa2d312e",
   "metadata": {},
   "source": [
    "## Predicting categorical data\n",
    "### Training/testing classifier"
   ]
  },
  {
   "cell_type": "code",
   "execution_count": null,
   "id": "4bb8d296",
   "metadata": {},
   "outputs": [],
   "source": [
    "! qiime sample-classifier classify-samples \\\n",
    "    --i-table data/table.qza \\\n",
    "    --m-metadata-file data/sample_metadata.qzv \\\n",
    "    --m-metadata-column body-site \\\n",
    "    --p-estimator RandomForestClassifier \\\n",
    "    --p-random-state 0 \\\n",
    "    --output-dir rf_classifier"
   ]
  },
  {
   "cell_type": "code",
   "execution_count": null,
   "id": "d763bdf5",
   "metadata": {},
   "outputs": [],
   "source": [
    "! qiime metadata tabulate \\\n",
    "    --m-input-file rf_classifier/predictions.qza \\\n",
    "    --o-visualization rf_classifier/predictions.qzv"
   ]
  },
  {
   "cell_type": "code",
   "execution_count": null,
   "id": "bc45c135",
   "metadata": {},
   "outputs": [],
   "source": [
    "! qiime metadata tabulate \\\n",
    "    --m-input-file rf_classifier/probabilities.qza \\\n",
    "    --o-visualization rf_classifier/probabilities.qzv"
   ]
  },
  {
   "cell_type": "code",
   "execution_count": null,
   "id": "93d9e305",
   "metadata": {},
   "outputs": [],
   "source": [
    "! qiime metadata tabulate \\\n",
    "    --m-input-file rf_classifier/test_targets.qza \\\n",
    "    --m-input-file rf_classifier/predictions.qza \\\n",
    "    --o-visualization rf_classifier/test_targets_predictions.qzv"
   ]
  },
  {
   "cell_type": "code",
   "execution_count": null,
   "id": "eca71664",
   "metadata": {},
   "outputs": [],
   "source": [
    "! qiime metadata tabulate \\\n",
    "    --m-input-file rf_classifier/feature_importance.qza \\\n",
    "    --o-visualization rf_classifier/feature_importance.qzv"
   ]
  },
  {
   "cell_type": "markdown",
   "id": "e299f416",
   "metadata": {},
   "source": [
    "### Feature selection"
   ]
  },
  {
   "cell_type": "code",
   "execution_count": null,
   "id": "8ff7ab87",
   "metadata": {},
   "outputs": [],
   "source": [
    "! qiime sample-classifier classify-samples \\\n",
    "    --i-table data/table.qza \\\n",
    "    --m-metadata-file data/sample_metadata.tsv \\\n",
    "    --m-metadata-column body-site \\\n",
    "    --p-optimize-feature-selection \\\n",
    "    --p-parameter-tuning \\\n",
    "    --p-estimator RandomForestClassifier \\\n",
    "    --p-n-estimators 20 \\\n",
    "    --p-random-state 123 \\\n",
    "    --output-dir rf_opt_classifier"
   ]
  },
  {
   "cell_type": "code",
   "execution_count": null,
   "id": "8c5a6311",
   "metadata": {},
   "outputs": [],
   "source": [
    "! qiime feature-table filter-features \\\n",
    "    --i-table data/table.qza \\\n",
    "    --m-metadata-file rf_opt_classifier/feature_importance.qza \\\n",
    "    --o-filtered-table rf_opt_classifier/important_feature_table.qza"
   ]
  },
  {
   "cell_type": "code",
   "execution_count": null,
   "id": "0b493f6d",
   "metadata": {},
   "outputs": [],
   "source": [
    "! qiime sample-classifier heatmap \\\n",
    "    --i-table data/table.qza \\\n",
    "    --i-importance rf_opt_classifier/feature_importance.qza \\\n",
    "    --m-sample-metadata-file data/sample_metadata.tsv \\\n",
    "    --m-sample-metadata-column body-site \\\n",
    "    --p-group-samples \\\n",
    "    --p-feature-count 30 \\\n",
    "    --o-filtered-table rf_opt_classifier/important_feature_table_top_30.qza \\\n",
    "    --o-heatmap rf_opt_classifier/important_feature_heatmap.qzv"
   ]
  },
  {
   "cell_type": "markdown",
   "id": "f744b0d4",
   "metadata": {},
   "source": [
    "**Note:** The model we trained here is a toy example containing very few samples from a single study and will probably not be useful for predicting other unknown samples. But if you have samples from one of these body sites, it could be a fun exercise to give it a spin!"
   ]
  },
  {
   "cell_type": "markdown",
   "id": "c7655c2b",
   "metadata": {},
   "source": [
    "## Predicting continuous data\n",
    "\n",
    "1. Predict on previous moving pictures dataset\n",
    "2. Predict on ECAM dataset"
   ]
  },
  {
   "cell_type": "code",
   "execution_count": null,
   "id": "326c9946",
   "metadata": {},
   "outputs": [],
   "source": [
    "! qiime sample-classifier regress-samples \\\n",
    "    --i-table data/table.qza \\\n",
    "    --m-metadata-file data/sample_metadata.tsv \\\n",
    "    --m-metadata-column days-since-experiment-start \\\n",
    "    --output-dir mp_regressor \\\n",
    "    --verbose"
   ]
  }
 ],
 "metadata": {
  "kernelspec": {
   "display_name": "qiime2-2023.2",
   "language": "python",
   "name": "qiime2-2023.2"
  },
  "language_info": {
   "codemirror_mode": {
    "name": "ipython",
    "version": 3
   },
   "file_extension": ".py",
   "mimetype": "text/x-python",
   "name": "python",
   "nbconvert_exporter": "python",
   "pygments_lexer": "ipython3",
   "version": "3.8.16"
  },
  "toc": {
   "base_numbering": 1,
   "nav_menu": {},
   "number_sections": true,
   "sideBar": true,
   "skip_h1_title": false,
   "title_cell": "Table of Contents",
   "title_sidebar": "Contents",
   "toc_cell": false,
   "toc_position": {},
   "toc_section_display": true,
   "toc_window_display": false
  },
  "varInspector": {
   "cols": {
    "lenName": 16,
    "lenType": 16,
    "lenVar": 40
   },
   "kernels_config": {
    "python": {
     "delete_cmd_postfix": "",
     "delete_cmd_prefix": "del ",
     "library": "var_list.py",
     "varRefreshCmd": "print(var_dic_list())"
    },
    "r": {
     "delete_cmd_postfix": ") ",
     "delete_cmd_prefix": "rm(",
     "library": "var_list.r",
     "varRefreshCmd": "cat(var_dic_list()) "
    }
   },
   "types_to_exclude": [
    "module",
    "function",
    "builtin_function_or_method",
    "instance",
    "_Feature"
   ],
   "window_display": false
  }
 },
 "nbformat": 4,
 "nbformat_minor": 5
}

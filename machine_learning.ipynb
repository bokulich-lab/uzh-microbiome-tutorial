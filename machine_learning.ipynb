{
 "cells": [
  {
   "cell_type": "markdown",
   "id": "66e8d14b",
   "metadata": {},
   "source": [
    "# QIIME 2 Tutorial: Machine Learning"
   ]
  },
  {
   "cell_type": "markdown",
   "id": "d8336c0f",
   "metadata": {},
   "source": [
    "## Setup"
   ]
  },
  {
   "cell_type": "code",
   "execution_count": null,
   "id": "fb370f02",
   "metadata": {},
   "outputs": [],
   "source": []
  },
  {
   "cell_type": "markdown",
   "id": "fa2d312e",
   "metadata": {},
   "source": [
    "## Predicting categorical data\n",
    "### Training/testing classifier"
   ]
  },
  {
   "cell_type": "code",
   "execution_count": null,
   "id": "4bb8d296",
   "metadata": {},
   "outputs": [],
   "source": [
    "! qiime sample-classifier classify-samples \\\n",
    "    --i-table data/table.qza \\\n",
    "    --m-metadata-file data/sample_metadata.qzv \\\n",
    "    --m-metadata-column body-site \\\n",
    "    --p-estimator RandomForestClassifier \\\n",
    "    --p-random-state 0 \\\n",
    "    --output-dir rf_classifier"
   ]
  },
  {
   "cell_type": "code",
   "execution_count": null,
   "id": "d763bdf5",
   "metadata": {},
   "outputs": [],
   "source": [
    "! qiime metadata tabulate \\\n",
    "    --m-input-file rf_classifier/predictions.qza \\\n",
    "    --o-visualization rf_classifier/predictions.qzv"
   ]
  },
  {
   "cell_type": "code",
   "execution_count": null,
   "id": "bc45c135",
   "metadata": {},
   "outputs": [],
   "source": [
    "! qiime metadata tabulate \\\n",
    "    --m-input-file rf_classifier/probabilities.qza \\\n",
    "    --o-visualization rf_classifier/probabilities.qzv"
   ]
  },
  {
   "cell_type": "code",
   "execution_count": null,
   "id": "93d9e305",
   "metadata": {},
   "outputs": [],
   "source": [
    "! qiime metadata tabulate \\\n",
    "    --m-input-file rf_classifier/test_targets.qza \\\n",
    "    --m-input-file rf_classifier/predictions.qza \\\n",
    "    --o-visualization rf_classifier/test_targets_predictions.qzv"
   ]
  },
  {
   "cell_type": "code",
   "execution_count": null,
   "id": "eca71664",
   "metadata": {},
   "outputs": [],
   "source": [
    "! qiime metadata tabulate \\\n",
    "    --m-input-file rf_classifier/feature_importance.qza \\\n",
    "    --o-visualization rf_classifier/feature_importance.qzv"
   ]
  },
  {
   "cell_type": "markdown",
   "id": "e299f416",
   "metadata": {},
   "source": [
    "### Feature selection"
   ]
  },
  {
   "cell_type": "code",
   "execution_count": null,
   "id": "8ff7ab87",
   "metadata": {},
   "outputs": [],
   "source": [
    "! qiime sample-classifier classify-samples \\\n",
    "    --i-table data/table.qza \\\n",
    "    --m-metadata-file data/sample_metadata.tsv \\\n",
    "    --m-metadata-column body-site \\\n",
    "    --p-optimize-feature-selection \\\n",
    "    --p-parameter-tuning \\\n",
    "    --p-estimator RandomForestClassifier \\\n",
    "    --p-n-estimators 20 \\\n",
    "    --p-random-state 123 \\\n",
    "    --output-dir rf_opt_classifier"
   ]
  },
  {
   "cell_type": "code",
   "execution_count": null,
   "id": "8c5a6311",
   "metadata": {},
   "outputs": [],
   "source": [
    "! qiime feature-table filter-features \\\n",
    "    --i-table data/table.qza \\\n",
    "    --m-metadata-file rf_opt_classifier/feature_importance.qza \\\n",
    "    --o-filtered-table rf_opt_classifier/important_feature_table.qza"
   ]
  },
  {
   "cell_type": "code",
   "execution_count": null,
   "id": "0b493f6d",
   "metadata": {},
   "outputs": [],
   "source": [
    "! qiime sample-classifier heatmap \\\n",
    "    --i-table data/table.qza \\\n",
    "    --i-importance rf_opt_classifier/feature_importance.qza \\\n",
    "    --m-sample-metadata-file data/sample_metadata.tsv \\\n",
    "    --m-sample-metadata-column body-site \\\n",
    "    --p-group-samples \\\n",
    "    --p-feature-count 30 \\\n",
    "    --o-filtered-table rf_opt_classifier/important_feature_table_top_30.qza \\\n",
    "    --o-heatmap rf_opt_classifier/important_feature_heatmap.qzv"
   ]
  },
  {
   "cell_type": "markdown",
   "id": "f744b0d4",
   "metadata": {},
   "source": [
    "**Note:** The model we trained here is a toy example containing very few samples from a single study and will probably not be useful for predicting other unknown samples. But if you have samples from one of these body sites, it could be a fun exercise to give it a spin!"
   ]
  },
  {
   "cell_type": "markdown",
   "id": "c7655c2b",
   "metadata": {},
   "source": [
    "## Predicting continuous data\n",
    "\n",
    "1. Predict on previous moving pictures dataset\n",
    "2. Predict on ECAM dataset"
   ]
  },
  {
   "cell_type": "code",
   "execution_count": null,
   "id": "326c9946",
   "metadata": {},
   "outputs": [],
   "source": [
    "! qiime sample-classifier regress-samples \\\n",
    "    --i-table data/table.qza \\\n",
    "    --m-metadata-file data/sample_metadata.tsv \\\n",
    "    --m-metadata-column days-since-experiment-start \\\n",
    "    --output-dir mp_regressor \\\n",
    "    --verbose"
   ]
  }
 ],
 "metadata": {
  "kernelspec": {
   "display_name": "qiime2-2023.2",
   "language": "python",
   "name": "qiime2-2023.2"
  },
  "language_info": {
   "codemirror_mode": {
    "name": "ipython",
    "version": 3
   },
   "file_extension": ".py",
   "mimetype": "text/x-python",
   "name": "python",
   "nbconvert_exporter": "python",
   "pygments_lexer": "ipython3",
   "version": "3.8.16"
  },
  "toc": {
   "base_numbering": 1,
   "nav_menu": {},
   "number_sections": true,
   "sideBar": true,
   "skip_h1_title": false,
   "title_cell": "Table of Contents",
   "title_sidebar": "Contents",
   "toc_cell": false,
   "toc_position": {},
   "toc_section_display": true,
   "toc_window_display": false
  },
  "varInspector": {
   "cols": {
    "lenName": 16,
    "lenType": 16,
    "lenVar": 40
   },
   "kernels_config": {
    "python": {
     "delete_cmd_postfix": "",
     "delete_cmd_prefix": "del ",
     "library": "var_list.py",
     "varRefreshCmd": "print(var_dic_list())"
    },
    "r": {
     "delete_cmd_postfix": ") ",
     "delete_cmd_prefix": "rm(",
     "library": "var_list.r",
     "varRefreshCmd": "cat(var_dic_list()) "
    }
   },
   "types_to_exclude": [
    "module",
    "function",
    "builtin_function_or_method",
    "instance",
    "_Feature"
   ],
   "window_display": false
  }
 },
 "nbformat": 4,
 "nbformat_minor": 5
}

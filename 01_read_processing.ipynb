{
 "cells": [
  {
   "cell_type": "markdown",
   "id": "08331499",
   "metadata": {},
   "source": [
    "# QIIME 2 Tutorial: Read Processing\n",
    "\n",
    "This notebook contains materials accompanying the workshop **Microbiome-Based Tools: From Research to Application**. The notebook and corresponding setup script were adapted from the [**Advanced Block Course: Computational Biology**](https://github.com/bokulich-lab/advanced-comp-bio-tutorial.git); all source code is licensed under the Apache License 2.0.\n",
    "\n",
    "Save your own local copy of this notebook by using `File > Save a copy in Drive`. At some point you may be prompted to trust the notebook. We promise that it is safe 🤞\n",
    "\n",
    "**Disclaimer:**\n",
    "\n",
    "The Google Colab notebook environment will interpret any command as Python code by default. If we want to run bash commands we will have to prefix them by `!`. So any command you see with a leading `!` is a bash command and if you wanted to run it in your terminal you would omit the leading `!`. For example, if in the Colab notebook you ran `!wget` you would just run `wget` in your terminal. \n",
    "\n",
    "In this notebook we use the `!` prefix because we run all QIIME 2 commands using the [`q2cli`](https://github.com/qiime2/q2cli/) (QIIME 2 command-line interface). However, QIIME 2 also has a python API and a Galaxy interface. You can learn more about these and other QIIME 2 interfaces at https://qiime2.org/.\n",
    "\n",
    "You can run the entire notebook by selecting `Runtime > Run all` from the menu in Google Colab. Some steps are time-comsuming and the entire notebook may take up to 30-60 minutes, so run the entire notebook now and we will inspect the commands and results as we work through as a class."
   ]
  },
  {
   "cell_type": "markdown",
   "id": "9bc038c3",
   "metadata": {},
   "source": [
    "## Setup\n",
    "\n",
    "QIIME 2 is usually installed by following the [official installation instructions](https://docs.qiime2.org/2023.9/install/). However, because we are using Google Colab and there are some caveats to using conda here, we will have to hack around the installation a little. But no worries, we provide a setup script below which does all this work for us. 😌\n",
    "\n",
    "So let's start by pulling a local copy of the project repository down from GitHub."
   ]
  },
  {
   "cell_type": "code",
   "execution_count": null,
   "id": "c31ae1be",
   "metadata": {},
   "outputs": [],
   "source": [
    "! git clone https://github.com/bokulich-lab/uzh-microbiome-tutorial.git materials\n",
    "! mkdir /content/prefetch_cache"
   ]
  },
  {
   "cell_type": "markdown",
   "id": "18d62eb1",
   "metadata": {},
   "source": [
    "We will switch to working within the `materials` directory for the rest of the notebook."
   ]
  },
  {
   "cell_type": "code",
   "execution_count": null,
   "id": "4701122b",
   "metadata": {},
   "outputs": [],
   "source": [
    "%cd materials"
   ]
  },
  {
   "cell_type": "markdown",
   "id": "07ba9be2",
   "metadata": {},
   "source": [
    "Now we are ready to set up our environment. This will take about 10 minutes.\n",
    "**Note:** This setup is only relevant for Google Colaboratory and will not work on your local machine. Please follow the [official installation instructions](https://docs.qiime2.org/2023.9/install/) for that."
   ]
  },
  {
   "cell_type": "code",
   "execution_count": null,
   "id": "8235d9b7",
   "metadata": {},
   "outputs": [],
   "source": [
    "%run setup_qiime2"
   ]
  },
  {
   "cell_type": "markdown",
   "id": "62eac2cd",
   "metadata": {},
   "source": [
    "And we will use some Python packages below, so let's load these here:"
   ]
  },
  {
   "cell_type": "code",
   "execution_count": null,
   "id": "f5e36949",
   "metadata": {},
   "outputs": [],
   "source": [
    "import numpy as np\n",
    "import pandas as pd\n",
    "import seaborn as sns"
   ]
  },
  {
   "cell_type": "markdown",
   "id": "c3670242",
   "metadata": {},
   "source": [
    "## Import data into QIIME 2\n",
    "Run the following cells first! Feel free to run these first few cells while Anton explains the basics of QIIME 2."
   ]
  },
  {
   "cell_type": "code",
   "execution_count": null,
   "id": "5274154b",
   "metadata": {},
   "outputs": [],
   "source": [
    "! qiime tools import \\\n",
    "    --type 'SampleData[SequencesWithQuality]' \\\n",
    "    --input-path data/moving_pictures/moving_pictures_manifest.tsv \\\n",
    "    --output-path sequences.qza \\\n",
    "    --input-format SingleEndFastqManifestPhred33V2"
   ]
  },
  {
   "cell_type": "code",
   "execution_count": null,
   "id": "e1ccd78d",
   "metadata": {},
   "outputs": [],
   "source": [
    "! qiime demux summarize \\\n",
    "    --i-data sequences.qza \\\n",
    "    --o-visualization qualities.qzv"
   ]
  },
  {
   "cell_type": "markdown",
   "id": "2ef710e7",
   "metadata": {},
   "source": [
    "## Denoise amplicon sequence variants"
   ]
  },
  {
   "cell_type": "code",
   "execution_count": null,
   "id": "dcca75b7",
   "metadata": {
    "scrolled": true
   },
   "outputs": [],
   "source": [
    "! qiime dada2 denoise-single \\\n",
    "    --i-demultiplexed-seqs sequences.qza \\\n",
    "    --p-trunc-len 135 \\\n",
    "    --p-n-threads 2 \\\n",
    "    --output-dir dada2 \\\n",
    "    --verbose"
   ]
  },
  {
   "cell_type": "code",
   "execution_count": null,
   "id": "83d542fa",
   "metadata": {},
   "outputs": [],
   "source": [
    "# Optional\n",
    "! qiime metadata tabulate \\\n",
    "    --m-input-file dada2/denoising_stats.qza \\\n",
    "    --o-visualization dada2/denoising_stats.qzv"
   ]
  },
  {
   "cell_type": "code",
   "execution_count": null,
   "id": "b58fd35e",
   "metadata": {},
   "outputs": [],
   "source": [
    "! qiime feature-table summarize \\\n",
    "    --i-table dada2/table.qza \\\n",
    "    --m-sample-metadata-file data/moving_pictures/moving_pictures_metadata.tsv \\\n",
    "    --o-visualization dada2/table.qzv"
   ]
  },
  {
   "cell_type": "code",
   "execution_count": null,
   "id": "d0b4fb4e",
   "metadata": {},
   "outputs": [],
   "source": [
    "# Optional\n",
    "! qiime feature-table tabulate-seqs \\\n",
    "    --i-data dada2/representative_sequences.qza \\\n",
    "    --o-visualization dada2/representative_sequences.qzv"
   ]
  },
  {
   "cell_type": "markdown",
   "id": "981e1a57",
   "metadata": {},
   "source": [
    "## Generate a phylogenetic tree"
   ]
  },
  {
   "cell_type": "code",
   "execution_count": null,
   "id": "eb3be404",
   "metadata": {},
   "outputs": [],
   "source": [
    "! qiime phylogeny align-to-tree-mafft-fasttree \\\n",
    "    --i-sequences dada2/representative_sequences.qza \\\n",
    "    --output-dir phylogeny"
   ]
  },
  {
   "cell_type": "markdown",
   "id": "fa8d6b7b",
   "metadata": {},
   "source": [
    "## Analyze phylogenetic diversity"
   ]
  },
  {
   "cell_type": "code",
   "execution_count": null,
   "id": "3d91d3bc",
   "metadata": {},
   "outputs": [],
   "source": [
    "! qiime diversity core-metrics-phylogenetic \\\n",
    "    --i-phylogeny phylogeny/rooted_tree.qza \\\n",
    "    --i-table dada2/table.qza \\\n",
    "    --p-sampling-depth 1100 \\\n",
    "    --m-metadata-file data/moving_pictures/moving_pictures_metadata.tsv \\\n",
    "    --output-dir core-metrics-results"
   ]
  },
  {
   "cell_type": "code",
   "execution_count": null,
   "id": "e8d3460a",
   "metadata": {},
   "outputs": [],
   "source": [
    "! qiime diversity alpha-group-significance \\\n",
    "    --i-alpha-diversity core-metrics-results/faith_pd_vector.qza \\\n",
    "    --m-metadata-file data/moving_pictures/moving_pictures_metadata.tsv \\\n",
    "    --o-visualization core-metrics-results/faith_pd_group_significance.qzv"
   ]
  },
  {
   "cell_type": "code",
   "execution_count": null,
   "id": "1c3af30d",
   "metadata": {},
   "outputs": [],
   "source": [
    "# Optional\n",
    "! qiime diversity alpha-group-significance \\\n",
    "    --i-alpha-diversity core-metrics-results/evenness_vector.qza \\\n",
    "    --m-metadata-file data/moving_pictures/moving_pictures_metadata.tsv \\\n",
    "    --o-visualization core-metrics-results/evenness_group_significance.qzv"
   ]
  },
  {
   "cell_type": "code",
   "execution_count": null,
   "id": "f9ddffbe",
   "metadata": {},
   "outputs": [],
   "source": [
    "! qiime emperor plot \\\n",
    "    --i-pcoa core-metrics-results/bray_curtis_pcoa_results.qza \\\n",
    "    --m-metadata-file data/moving_pictures/moving_pictures_metadata.tsv \\\n",
    "    --o-visualization core-metrics-results/bray_curtis_pcoa.qzv"
   ]
  },
  {
   "cell_type": "markdown",
   "id": "8d43d06a",
   "metadata": {},
   "source": [
    "## Classify by taxonomy"
   ]
  },
  {
   "cell_type": "code",
   "execution_count": null,
   "id": "e8a70b25",
   "metadata": {},
   "outputs": [],
   "source": [
    "! wget https://data.qiime2.org/2023.9/common/gg-13-8-99-515-806-nb-weighted-classifier.qza"
   ]
  },
  {
   "cell_type": "code",
   "execution_count": null,
   "id": "cb05f935",
   "metadata": {},
   "outputs": [],
   "source": [
    "! qiime feature-classifier classify-sklearn \\\n",
    "    --i-reads dada2/representative_sequences.qza \\\n",
    "    --i-classifier gg-13-8-99-515-806-nb-weighted-classifier.qza \\\n",
    "    --p-n-jobs 2 \\\n",
    "    --output-dir taxonomy"
   ]
  },
  {
   "cell_type": "code",
   "execution_count": null,
   "id": "e04b4d2d",
   "metadata": {},
   "outputs": [],
   "source": [
    "! qiime metadata tabulate \\\n",
    "    --m-input-file taxonomy/classification.qza \\\n",
    "    --o-visualization taxonomy/classification.qzv"
   ]
  },
  {
   "cell_type": "code",
   "execution_count": null,
   "id": "98c59a56",
   "metadata": {},
   "outputs": [],
   "source": [
    "! qiime taxa barplot \\\n",
    "    --i-table dada2/table.qza \\\n",
    "    --i-taxonomy taxonomy/classification.qza \\\n",
    "    --m-metadata-file data/moving_pictures/moving_pictures_metadata.tsv \\\n",
    "    --o-visualization taxonomy/taxa_barplot.qzv"
   ]
  },
  {
   "cell_type": "markdown",
   "id": "00c19b24",
   "metadata": {},
   "source": [
    "## Optional section: Understand differentially abundant features\n",
    "\n",
    "This section may be omitted for time, but provides an interesting mechanistic view of microbiome interactions."
   ]
  },
  {
   "cell_type": "code",
   "execution_count": null,
   "id": "2fd3c26f",
   "metadata": {},
   "outputs": [],
   "source": [
    "! mkdir diff_abund\n",
    "\n",
    "! qiime taxa collapse \\\n",
    "    --i-table dada2/table.qza \\\n",
    "    --i-taxonomy taxonomy/classification.qza \\\n",
    "    --p-level 6 \\\n",
    "    --o-collapsed-table diff_abund/table_l6.qza"
   ]
  },
  {
   "cell_type": "code",
   "execution_count": null,
   "id": "0411f725",
   "metadata": {},
   "outputs": [],
   "source": [
    "! qiime composition add-pseudocount \\\n",
    "    --i-table diff_abund/table_l6.qza \\\n",
    "    --o-composition-table diff_abund/comp_table_l6.qza"
   ]
  },
  {
   "cell_type": "code",
   "execution_count": null,
   "id": "5c94e939",
   "metadata": {},
   "outputs": [],
   "source": [
    "! qiime feature-table filter-samples \\\n",
    "    --i-table diff_abund/comp_table_l6.qza \\\n",
    "    --m-metadata-file data/moving_pictures/moving_pictures_metadata.tsv \\\n",
    "    --p-where \"[body-site]='gut'\" \\\n",
    "    --o-filtered-table diff_abund/comp_gut_table_l6.qza"
   ]
  },
  {
   "cell_type": "code",
   "execution_count": null,
   "id": "b0598450",
   "metadata": {},
   "outputs": [],
   "source": [
    "! qiime composition ancom \\\n",
    "    --i-table diff_abund/comp_gut_table_l6.qza \\\n",
    "    --m-metadata-file data/moving_pictures/moving_pictures_metadata.tsv \\\n",
    "    --m-metadata-column subject \\\n",
    "    --o-visualization diff_abund/ancom_gut_subject_l6.qzv"
   ]
  },
  {
   "cell_type": "markdown",
   "id": "00b9c64e",
   "metadata": {},
   "source": [
    "# Additional Tools\n",
    "* `q2-fondue`\n",
    "* Beta diversity methods in `q2-diversity`:\n",
    "  * `qiime diversity beta-group-significance`\n",
    "  * `qiime diversity adonis`"
   ]
  }
 ],
 "metadata": {
  "kernelspec": {
   "display_name": "qiime2-2023.2",
   "language": "python",
   "name": "qiime2-2023.2"
  },
  "language_info": {
   "codemirror_mode": {
    "name": "ipython",
    "version": 3
   },
   "file_extension": ".py",
   "mimetype": "text/x-python",
   "name": "python",
   "nbconvert_exporter": "python",
   "pygments_lexer": "ipython3",
   "version": "3.8.16"
  },
  "toc": {
   "base_numbering": 1,
   "nav_menu": {},
   "number_sections": true,
   "sideBar": true,
   "skip_h1_title": false,
   "title_cell": "Table of Contents",
   "title_sidebar": "Contents",
   "toc_cell": false,
   "toc_position": {},
   "toc_section_display": true,
   "toc_window_display": false
  },
  "varInspector": {
   "cols": {
    "lenName": 16,
    "lenType": 16,
    "lenVar": 40
   },
   "kernels_config": {
    "python": {
     "delete_cmd_postfix": "",
     "delete_cmd_prefix": "del ",
     "library": "var_list.py",
     "varRefreshCmd": "print(var_dic_list())"
    },
    "r": {
     "delete_cmd_postfix": ") ",
     "delete_cmd_prefix": "rm(",
     "library": "var_list.r",
     "varRefreshCmd": "cat(var_dic_list()) "
    }
   },
   "types_to_exclude": [
    "module",
    "function",
    "builtin_function_or_method",
    "instance",
    "_Feature"
   ],
   "window_display": false
  }
 },
 "nbformat": 4,
 "nbformat_minor": 5
}

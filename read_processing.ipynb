{
 "cells": [
  {
   "cell_type": "markdown",
   "id": "08331499",
   "metadata": {},
   "source": [
    "# QIIME 2 Tutorial: Read Processing"
   ]
  },
  {
   "cell_type": "markdown",
   "id": "c3670242",
   "metadata": {},
   "source": [
    "## Import data into QIIME 2\n",
    "Run the following cells first! Feel free to run these first few cells while Anton explains the basics of QIIME 2."
   ]
  },
  {
   "cell_type": "code",
   "execution_count": null,
   "id": "5274154b",
   "metadata": {},
   "outputs": [],
   "source": [
    "! qiime tools import \\\n",
    "    --type 'SampleData[SequencesWithQuality]' \\\n",
    "    --input-path data/fastq_manifest.tsv \\\n",
    "    --output-path sequences.qza \\\n",
    "    --input-format SingleEndFastqManifestPhred33V2"
   ]
  },
  {
   "cell_type": "code",
   "execution_count": null,
   "id": "e1ccd78d",
   "metadata": {},
   "outputs": [],
   "source": [
    "! qiime demux summarize \\\n",
    "    --i-data sequences.qza \\\n",
    "    --o-visualization qualities.qzv"
   ]
  },
  {
   "cell_type": "markdown",
   "id": "2ef710e7",
   "metadata": {},
   "source": [
    "## Denoise amplicon sequence variants"
   ]
  },
  {
   "cell_type": "code",
   "execution_count": null,
   "id": "dcca75b7",
   "metadata": {
    "scrolled": true
   },
   "outputs": [],
   "source": [
    "! qiime dada2 denoise-single \\\n",
    "    --i-demultiplexed-seqs sequences.qza \\\n",
    "    --p-trunc-len 135 \\\n",
    "    --p-n-threads 2 \\\n",
    "    --output-dir dada2 \\\n",
    "    --verbose"
   ]
  },
  {
   "cell_type": "code",
   "execution_count": null,
   "id": "83d542fa",
   "metadata": {},
   "outputs": [],
   "source": [
    "# Optional\n",
    "! qiime metadata tabulate \\\n",
    "    --m-input-file dada2/denoising_stats.qza \\\n",
    "    --o-visualization dada2/denoising_stats.qzv"
   ]
  },
  {
   "cell_type": "code",
   "execution_count": null,
   "id": "b58fd35e",
   "metadata": {},
   "outputs": [],
   "source": [
    "! qiime feature-table summarize \\\n",
    "    --i-table dada2/table.qza \\\n",
    "    --m-sample-metadata-file data/sample_metadata.tsv \\\n",
    "    --o-visualization dada2/table.qzv"
   ]
  },
  {
   "cell_type": "code",
   "execution_count": null,
   "id": "d0b4fb4e",
   "metadata": {},
   "outputs": [],
   "source": [
    "# Optional\n",
    "! qiime feature-table tabulate-seqs \\\n",
    "    --i-data dada2/representative_sequences.qza \\\n",
    "    --o-visualization dada2/representative_sequences.qzv"
   ]
  },
  {
   "cell_type": "markdown",
   "id": "981e1a57",
   "metadata": {},
   "source": [
    "## Generate a phylogenetic tree"
   ]
  },
  {
   "cell_type": "code",
   "execution_count": null,
   "id": "eb3be404",
   "metadata": {},
   "outputs": [],
   "source": [
    "! qiime phylogeny align-to-tree-mafft-fasttree \\\n",
    "    --i-sequences dada2/representative_sequences.qza \\\n",
    "    --output-dir phylogeny"
   ]
  },
  {
   "cell_type": "markdown",
   "id": "fa8d6b7b",
   "metadata": {},
   "source": [
    "## Analyze phylogenetic diversity"
   ]
  },
  {
   "cell_type": "code",
   "execution_count": null,
   "id": "3d91d3bc",
   "metadata": {},
   "outputs": [],
   "source": [
    "! qiime diversity core-metrics-phylogenetic \\\n",
    "    --i-phylogeny phylogeny/rooted_tree.qza \\\n",
    "    --i-table dada2/table.qza \\\n",
    "    --p-sampling-depth 1100 \\\n",
    "    --m-metadata-file data/sample_metadata.tsv \\\n",
    "    --output-dir core-metrics-results"
   ]
  },
  {
   "cell_type": "code",
   "execution_count": null,
   "id": "e8d3460a",
   "metadata": {},
   "outputs": [],
   "source": [
    "! qiime diversity alpha-group-significance \\\n",
    "    --i-alpha-diversity core-metrics-results/faith_pd_vector.qza \\\n",
    "    --m-metadata-file data/sample_metadata.tsv \\\n",
    "    --o-visualization core-metrics-results/faith_pd_group_significance.qzv"
   ]
  },
  {
   "cell_type": "code",
   "execution_count": null,
   "id": "1c3af30d",
   "metadata": {},
   "outputs": [],
   "source": [
    "# Optional\n",
    "! qiime diversity alpha-group-significance \\\n",
    "    --i-alpha-diversity core-metrics-results/evenness_vector.qza \\\n",
    "    --m-metadata-file data/sample_metadata.tsv \\\n",
    "    --o-visualization core-metrics-results/evenness_group_significance.qzv"
   ]
  },
  {
   "cell_type": "code",
   "execution_count": null,
   "id": "f9ddffbe",
   "metadata": {},
   "outputs": [],
   "source": [
    "! qiime emperor plot \\\n",
    "    --i-pcoa core-metrics-results/bray_curtis_pcoa_results.qza \\\n",
    "    --m-metadata-file data/sample_metadata.tsv \\\n",
    "    --o-visualization core-metrics-results/bray_curtis_pcoa.qzv"
   ]
  },
  {
   "cell_type": "markdown",
   "id": "8d43d06a",
   "metadata": {},
   "source": [
    "## Classify by taxonomy"
   ]
  },
  {
   "cell_type": "code",
   "execution_count": null,
   "id": "e8a70b25",
   "metadata": {},
   "outputs": [],
   "source": [
    "! wget https://data.qiime2.org/2023.9/common/gg-13-8-99-515-806-nb-weighted-classifier.qza"
   ]
  },
  {
   "cell_type": "code",
   "execution_count": null,
   "id": "cb05f935",
   "metadata": {},
   "outputs": [],
   "source": [
    "! qiime feature-classifier classify-sklearn \\\n",
    "    --i-reads dada2/representative_sequences.qza \\\n",
    "    --i-classifier gg-13-8-99-515-806-nb-weighted-classifier.qza \\\n",
    "    --p-n-jobs 2 \\\n",
    "    --output-dir taxonomy"
   ]
  },
  {
   "cell_type": "code",
   "execution_count": null,
   "id": "e04b4d2d",
   "metadata": {},
   "outputs": [],
   "source": [
    "! qiime metadata tabulate \\\n",
    "    --m-input-file taxonomy/classification.qza \\\n",
    "    --o-visualization taxonomy/classification.qzv"
   ]
  },
  {
   "cell_type": "code",
   "execution_count": null,
   "id": "98c59a56",
   "metadata": {},
   "outputs": [],
   "source": [
    "! qiime taxa barplot \\\n",
    "    --i-table dada2/table.qza \\\n",
    "    --i-taxonomy taxonomy/classification.qza \\\n",
    "    --m-metadata-file data/sample_metadata.tsv \\\n",
    "    --o-visualization taxonomy/taxa_barplot.qzv"
   ]
  },
  {
   "cell_type": "markdown",
   "id": "00c19b24",
   "metadata": {},
   "source": [
    "## Optional section: Understand differentially abundant features\n",
    "\n",
    "This section may be omitted for time, but provides an interesting mechanistic view of microbiome interactions."
   ]
  },
  {
   "cell_type": "code",
   "execution_count": null,
   "id": "2fd3c26f",
   "metadata": {},
   "outputs": [],
   "source": [
    "! mkdir diff_abund\n",
    "\n",
    "! qiime taxa collapse \\\n",
    "    --i-table dada2/table.qza \\\n",
    "    --i-taxonomy taxonomy/classification.qza \\\n",
    "    --p-level 6 \\\n",
    "    --o-collapsed-table diff_abund/table_l6.qza"
   ]
  },
  {
   "cell_type": "code",
   "execution_count": null,
   "id": "0411f725",
   "metadata": {},
   "outputs": [],
   "source": [
    "! qiime composition add-pseudocount \\\n",
    "    --i-table diff_abund/table_l6.qza \\\n",
    "    --o-composition-table diff_abund/comp_table_l6.qza"
   ]
  },
  {
   "cell_type": "code",
   "execution_count": null,
   "id": "5c94e939",
   "metadata": {},
   "outputs": [],
   "source": [
    "! qiime feature-table filter-samples \\\n",
    "    --i-table diff_abund/comp_table_l6.qza \\\n",
    "    --m-metadata-file data/sample_metadata.tsv \\\n",
    "    --p-where \"[body-site]='gut'\" \\\n",
    "    --o-filtered-table diff_abund/comp_gut_table_l6.qza"
   ]
  },
  {
   "cell_type": "code",
   "execution_count": null,
   "id": "b0598450",
   "metadata": {},
   "outputs": [],
   "source": [
    "! qiime composition ancom \\\n",
    "    --i-table diff_abund/comp_gut_table_l6.qza \\\n",
    "    --m-metadata-file data/sample_metadata.tsv \\\n",
    "    --m-metadata-column subject \\\n",
    "    --o-visualization diff_abund/ancom_gut_subject_l6.qzv"
   ]
  },
  {
   "cell_type": "markdown",
   "id": "00b9c64e",
   "metadata": {},
   "source": [
    "# Additional Tools\n",
    "* `q2-fondue`\n",
    "* Beta diversity methods in `q2-diversity`:\n",
    "  * `qiime diversity beta-group-significance`\n",
    "  * `qiime diversity adonis`"
   ]
  }
 ],
 "metadata": {
  "kernelspec": {
   "display_name": "qiime2-2023.2",
   "language": "python",
   "name": "qiime2-2023.2"
  },
  "language_info": {
   "codemirror_mode": {
    "name": "ipython",
    "version": 3
   },
   "file_extension": ".py",
   "mimetype": "text/x-python",
   "name": "python",
   "nbconvert_exporter": "python",
   "pygments_lexer": "ipython3",
   "version": "3.8.16"
  },
  "toc": {
   "base_numbering": 1,
   "nav_menu": {},
   "number_sections": true,
   "sideBar": true,
   "skip_h1_title": false,
   "title_cell": "Table of Contents",
   "title_sidebar": "Contents",
   "toc_cell": false,
   "toc_position": {},
   "toc_section_display": true,
   "toc_window_display": false
  },
  "varInspector": {
   "cols": {
    "lenName": 16,
    "lenType": 16,
    "lenVar": 40
   },
   "kernels_config": {
    "python": {
     "delete_cmd_postfix": "",
     "delete_cmd_prefix": "del ",
     "library": "var_list.py",
     "varRefreshCmd": "print(var_dic_list())"
    },
    "r": {
     "delete_cmd_postfix": ") ",
     "delete_cmd_prefix": "rm(",
     "library": "var_list.r",
     "varRefreshCmd": "cat(var_dic_list()) "
    }
   },
   "types_to_exclude": [
    "module",
    "function",
    "builtin_function_or_method",
    "instance",
    "_Feature"
   ],
   "window_display": false
  }
 },
 "nbformat": 4,
 "nbformat_minor": 5
}
